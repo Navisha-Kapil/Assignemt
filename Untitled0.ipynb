{
  "nbformat": 4,
  "nbformat_minor": 0,
  "metadata": {
    "colab": {
      "provenance": [],
      "authorship_tag": "ABX9TyOZDIqTd5eF4yXsqsIVw9jl",
      "include_colab_link": true
    },
    "kernelspec": {
      "name": "python3",
      "display_name": "Python 3"
    },
    "language_info": {
      "name": "python"
    }
  },
  "cells": [
    {
      "cell_type": "markdown",
      "metadata": {
        "id": "view-in-github",
        "colab_type": "text"
      },
      "source": [
        "<a href=\"https://colab.research.google.com/github/Navisha-Kapil/Assignemt/blob/main/Untitled0.ipynb\" target=\"_parent\"><img src=\"https://colab.research.google.com/assets/colab-badge.svg\" alt=\"Open In Colab\"/></a>"
      ]
    },
    {
      "cell_type": "code",
      "execution_count": null,
      "metadata": {
        "id": "qOpy6fWr4Rcg"
      },
      "outputs": [],
      "source": [
        "\n",
        "import numpy as np\n",
        "\n",
        "arr = np.array([1, 2, 3, 6, 4, 5])\n",
        "new = np.flip(arr)\n",
        "print(\"final array\", str(new))\n"
      ]
    },
    {
      "cell_type": "code",
      "source": [
        "arr1 = np.array([[1, 2], [3, 4]])\n",
        "arr2 = np.array([[1, 2], [3, 4]])\n",
        "comparison = arr1==arr2\n",
        "equal = comparison.all()\n",
        "print(equal)\n",
        "\n"
      ],
      "metadata": {
        "id": "KUeZRuSK8QpS"
      },
      "execution_count": null,
      "outputs": []
    },
    {
      "cell_type": "code",
      "source": [
        "x = np.array([1, 2, 3, 4, 5, 1, 2, 1, 1, 1])\n",
        "print(\"Original array:\")\n",
        "print(x)\n",
        "print(np.bincount(x).argmax())\n",
        "\n",
        "\n",
        "y = np.array([1, 1, 1, 2, 3, 4, 2, 4, 3, 3])\n",
        "print(\"Original array:\")\n",
        "print(y)\n",
        "print(np.bincount(y).argmax())\n",
        "\n"
      ],
      "metadata": {
        "id": "mbeY8BFp8U1E"
      },
      "execution_count": null,
      "outputs": []
    },
    {
      "cell_type": "code",
      "source": [
        "\n",
        "gfg = np.matrix('[4, 1, 9; 12, 3, 1; 4, 5, 6]')\n",
        "print(\"Original array:\")\n",
        "print(gfg)\n",
        "print(\"Sum of all elements:\")\n",
        "print(np.sum(gfg))\n",
        "print(\"Sum of each column:\")\n",
        "print(np.sum(gfg, axis=0))\n",
        "print(\"Sum of each row:\")\n",
        "print(np.sum(gfg, axis=1))"
      ],
      "metadata": {
        "id": "DeORNNMz8gSK"
      },
      "execution_count": null,
      "outputs": []
    }
  ]
}